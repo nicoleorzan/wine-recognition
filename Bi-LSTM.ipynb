{
 "cells": [
  {
   "cell_type": "markdown",
   "metadata": {},
   "source": [
    "# Binary-Long Term Short Memory"
   ]
  },
  {
   "cell_type": "markdown",
   "metadata": {},
   "source": [
    "## A little bit of theory\n",
    "\n",
    "###  Recurrent Neural Networks:\n",
    "    \n",
    "Useful when there are sequance data (ex. speech recongition, named entities recognition, sentiment classification from sentence, generation of music). Sequence data may be only the input data, the output data, ot both of them.\n",
    "\n",
    "We cannot use a normal neural network for this because the lenght of the given sentences varies, so we do not have a fixed size for the initial and final layers. Moreover is difficult to share features which appear in different positions of the text.\n",
    "\n",
    "So, **IDEA**: When we try to predict one word label or tag, we do not use just the given word, but also some provious knowledge coming from the previous part of the phrase.\n",
    "\n",
    "<img src=\"Images/rnn.png\" alt=\"drawing\" style=\"width:400px;\"/>\n",
    "\n",
    "\n",
    "So we can use them to predict words in a sentence, given the previous words we read.\n",
    "Activation function between layers is often a tanh, while the one for the output is often a sigmoid.\n",
    "Each block here is defined to be a \"time step\".\n",
    "\n",
    "**Problem**: it predicts the output of words in a sentence only taking infromations form the \"past\".\n",
    "(In our case we do not have the problem that input length and output lenght have to be different)\n",
    "\n",
    "#### So we Introduce Backpropagation\n",
    "\n",
    "---"
   ]
  },
  {
   "cell_type": "markdown",
   "metadata": {},
   "source": [
    "### Vanishing gradient problem:\n",
    "\n",
    "Language can have a long term dependencies: what cames now in the phrase can depend on what there was in the phrase 100 words ago.\n",
    "\n",
    "Basic RNN are not good in capturing long term dependencies because of the vanishing gradient problem: if we have a long network (=long sentence in our case), it can be difficult for the gradient to backpropagate because of the propagation of the errors. So the values of a certain outcome are influenced only by the neighbors, and not by far words.\n",
    "\n",
    "### Introduction of Gated Recurrent Units:\n",
    "\n",
    "\n",
    "<img src=\"Images/gru.png\" alt=\"drawing\" style=\"width:600px;\"/>\n",
    "\n",
    "We compute the value for a memory cell which has a value in dependence for exaple that the subject is singular or plural. This cell actually outputs an activation value ($h_t$). At each step we consider to rewrite the value of the memory cell with the candidate $\\tilde h_t$, computed with the value of the previous cell and the current $x_t$. \n",
    "\n",
    "Then we compute the **Gate function $z_t$**, which outputs a value between 0 or 1 (which actually is relly really near or to 0 or to 1 because of the sigmoid function). The Gate decides if we will actually update $h_t$ using $\\tilde h_t$ or not. If the Gate value is 1 we will replace it (look last function). The update happens then when the information we are memorizing it is not needed anymore, so we can forget about it.\n",
    "\n",
    "In the calculations we can see that there is one addittive Gate $r_t$ which stands for the relavance of the Gate.\n",
    "\n",
    "The GRU is made like this because it is robust and useful for many different problems.\n",
    "\n",
    "\n",
    "### introduction of LSTM Units:\n",
    "\n",
    "LSTM is a more powerful and more general version than GRU.<br>\n",
    "(The original paper is onr of the most difficult to read!)\n",
    "\n",
    "Here the main difference is that we do not have a single Gate to update the value of the memory cell, but **three different update Gates**. The first two are used in the computation of $c_t$. Those are $i_t$, which is the same of before, and $f_t$ which represents the forget gate for the previous value of the memory call.\n",
    "\n",
    "Then the output value for $h_t$ is given by $c_t$ multiplyied for a last Gate function.\n",
    "\n",
    "<img src=\"Images/lstm.png\" alt=\"drawing\" style=\"width:600px;\"/>\n",
    "\n",
    "\n",
    "The idea is that we have those new cells which allow us to keep the memory for certain values. Those cells cotain 0 / 1 values inside a matrix, which mean that we are memorizing or not a thing. At each time step we are updating the values of some functions which allow us to decide if we want to keep or delete the memory for a certain thing.\n",
    "\n",
    "**Example**: The cat already ate, ..., was full.\n",
    "At the beginning, we decide to memorize the fact that \"the\" in the phrase relate to a single subject. Then we memorize it until we need it again in the \"was\", to remember that we are referring to the single subject again. At the end of the phrase (where maybe a new phrase begins) we can forget it.\n",
    "\n",
    "---\n",
    "\n",
    "### Bidirectionality\n",
    "\n",
    "Sometimes it is not enough to know what is there in the sentence before the word we are considering, to understand if it is a personal noun or whatever we are searching for. (example: \"teddy\" may belong to \"teddy bears\" or \"teddy the president\")\n"
   ]
  },
  {
   "cell_type": "code",
   "execution_count": 1,
   "metadata": {},
   "outputs": [
    {
     "name": "stderr",
     "output_type": "stream",
     "text": [
      "Using TensorFlow backend.\n"
     ]
    }
   ],
   "source": [
    "import pickle\n",
    "import numpy as np\n",
    "import pandas as pd\n",
    "\n",
    "import matplotlib.pyplot as plt\n",
    "plt.style.use(\"ggplot\")\n",
    "\n",
    "from keras.preprocessing.sequence import pad_sequences\n",
    "from keras.utils import to_categorical\n",
    "from keras_contrib import losses\n",
    "\n",
    "from sklearn.model_selection import train_test_split\n",
    "\n",
    "from keras.models import Model, Input\n",
    "from keras.layers import LSTM, Embedding, Dense, TimeDistributed, Dropout, Bidirectional\n",
    "from keras_contrib.layers import CRF\n",
    "\n",
    "from collections import defaultdict\n",
    "\n",
    "import string"
   ]
  },
  {
   "cell_type": "code",
   "execution_count": 2,
   "metadata": {},
   "outputs": [],
   "source": [
    "def load_obj(name):\n",
    "    with open('saved_things/' + name + '.pkl', 'rb') as f:\n",
    "        return pickle.load(f)\n",
    "    \n",
    "def save_obj(obj, name):\n",
    "    with open('saved_things/' + name + '.pkl', 'wb') as f:\n",
    "        pickle.dump(obj, f, pickle.HIGHEST_PROTOCOL)"
   ]
  },
  {
   "cell_type": "code",
   "execution_count": 3,
   "metadata": {},
   "outputs": [],
   "source": [
    "tagged_sentences = load_obj(\"tagged_sentences_100000\")\n",
    "words = load_obj(\"words_100000\")"
   ]
  },
  {
   "cell_type": "code",
   "execution_count": 4,
   "metadata": {},
   "outputs": [
    {
     "data": {
      "text/plain": [
       "117"
      ]
     },
     "execution_count": 4,
     "metadata": {},
     "output_type": "execute_result"
    }
   ],
   "source": [
    "# max length of the sentences\n",
    "max_len = 0 \n",
    "for i in tagged_sentences:\n",
    "    if len(i) > max_len:\n",
    "        max_len = len(i)\n",
    "        \n",
    "max_len"
   ]
  },
  {
   "cell_type": "code",
   "execution_count": 5,
   "metadata": {},
   "outputs": [
    {
     "name": "stdout",
     "output_type": "stream",
     "text": [
      "4\n",
      "1\n"
     ]
    }
   ],
   "source": [
    "# moving words and tags to indices to use them in the network as integer numbers\n",
    "tags = ['O', 'B-aroma', 'B-taste', 'B-fruit', 'I-aroma', 'I-taste', 'I-fruit']\n",
    "\n",
    "word2idx = {w: i + 1 for i, w in enumerate(words)}\n",
    "tag2idx = {t: i for i, t in enumerate(tags)}\n",
    "\n",
    "n_tags = len(tags)\n",
    "n_words = len(words)\n",
    "\n",
    "print(word2idx['fruit'])\n",
    "print(tag2idx[\"B-aroma\"])"
   ]
  },
  {
   "cell_type": "code",
   "execution_count": 6,
   "metadata": {},
   "outputs": [
    {
     "name": "stdout",
     "output_type": "stream",
     "text": [
      "14740\n",
      "ENDPAD\n"
     ]
    }
   ],
   "source": [
    "print(n_words)\n",
    "print(list(word2idx.keys())[list(word2idx.values()).index(14740)]) "
   ]
  },
  {
   "cell_type": "code",
   "execution_count": 7,
   "metadata": {},
   "outputs": [],
   "source": [
    "# sentences becomes a list of indices then, an so do tags:\n",
    "X = [[word2idx[w[0]] for w in s] for s in tagged_sentences]\n",
    "y = [[tag2idx[w[2]] for w in s] for s in tagged_sentences]\n",
    "\n",
    "# pad_sequences: This function transforms a list of num_samples sequences (lists of integers) into a \n",
    "# 2D Numpy array of shape (num_samples, num_timesteps). num_timesteps is either the maxlen argument if provided, \n",
    "# or the length of the longest sequence otherwise.\n",
    "\n",
    "#With padding I put each sentence with the same length. it should add \"ENDPAD\" as addittive words\n",
    "X = pad_sequences(maxlen=max_len, sequences=X, padding=\"post\", value=n_words)\n",
    "\n",
    "y = pad_sequences(maxlen=max_len, sequences=y, padding=\"post\", value=tag2idx[\"O\"])\n",
    "\n",
    "y = [to_categorical(i, num_classes=n_tags) for i in y]\n",
    "\n",
    "X_tr, X_te, y_tr, y_te = train_test_split(X, y, test_size=0.1)"
   ]
  },
  {
   "cell_type": "code",
   "execution_count": 8,
   "metadata": {},
   "outputs": [
    {
     "data": {
      "text/plain": [
       "117"
      ]
     },
     "execution_count": 8,
     "metadata": {},
     "output_type": "execute_result"
    }
   ],
   "source": [
    "len(X_tr[0])"
   ]
  },
  {
   "cell_type": "code",
   "execution_count": 9,
   "metadata": {},
   "outputs": [],
   "source": [
    "inputt = Input(shape=(max_len,))\n",
    "\n",
    "# Embedding layer turns positive integers (indexes) into dense vectors of fixed size. \n",
    "# eg. [[4], [20]] -> [[0.25, 0.1], [0.6, -0.2]]\n",
    "model = Embedding(input_dim=n_words+1, output_dim=max_len, input_length=max_len)(inputt) # output_dim=50\n",
    "\n",
    "# Dropout: randomly setting a fraction of input units to 0 \n",
    "# at each update during training time; helps prevent overfitting.\n",
    "model = Dropout(0.1)(model)\n",
    "\n",
    "# Our Bidirectional LSTM model :D\n",
    "# 100 is the dimension of the output space, default activation function tanh\n",
    "model = Bidirectional(LSTM(units=100, return_sequences=True, recurrent_dropout=0.1))(model)\n",
    "\n",
    "# Timedistributed wrapper applies a layer to every temporal slice of an input.\n",
    "out = TimeDistributed(Dense(n_tags, activation=\"softmax\"))(model)  # softmax output layer"
   ]
  },
  {
   "cell_type": "code",
   "execution_count": 10,
   "metadata": {},
   "outputs": [],
   "source": [
    "model = Model(inputt, out)"
   ]
  },
  {
   "cell_type": "code",
   "execution_count": 11,
   "metadata": {},
   "outputs": [],
   "source": [
    "model.compile(optimizer=\"rmsprop\", loss=\"categorical_crossentropy\", metrics=[\"accuracy\"])"
   ]
  },
  {
   "cell_type": "code",
   "execution_count": 12,
   "metadata": {
    "scrolled": true
   },
   "outputs": [
    {
     "name": "stdout",
     "output_type": "stream",
     "text": [
      "_________________________________________________________________\n",
      "Layer (type)                 Output Shape              Param #   \n",
      "=================================================================\n",
      "input_1 (InputLayer)         (None, 117)               0         \n",
      "_________________________________________________________________\n",
      "embedding_1 (Embedding)      (None, 117, 117)          1724697   \n",
      "_________________________________________________________________\n",
      "dropout_1 (Dropout)          (None, 117, 117)          0         \n",
      "_________________________________________________________________\n",
      "bidirectional_1 (Bidirection (None, 117, 200)          174400    \n",
      "_________________________________________________________________\n",
      "time_distributed_1 (TimeDist (None, 117, 7)            1407      \n",
      "=================================================================\n",
      "Total params: 1,900,504\n",
      "Trainable params: 1,900,504\n",
      "Non-trainable params: 0\n",
      "_________________________________________________________________\n"
     ]
    }
   ],
   "source": [
    "model.summary()\n",
    "\n",
    "# 'None' means that the first dimension of the model is variable: it is the batch size which is not fixed "
   ]
  },
  {
   "cell_type": "code",
   "execution_count": 75,
   "metadata": {
    "scrolled": false
   },
   "outputs": [
    {
     "name": "stdout",
     "output_type": "stream",
     "text": [
      "Train on 6300 samples, validate on 2700 samples\n",
      "Epoch 1/2\n",
      "6300/6300 [==============================] - 250s 40ms/step - loss: 0.1397 - acc: 0.9639 - val_loss: 0.0596 - val_acc: 0.9776\n",
      "Epoch 2/2\n",
      "6300/6300 [==============================] - 220s 35ms/step - loss: 0.0471 - acc: 0.9821 - val_loss: 0.0439 - val_acc: 0.9827\n"
     ]
    }
   ],
   "source": [
    "history = model.fit(X_tr, np.array(y_tr), batch_size=32, epochs=2, validation_split=0.3, verbose=1)"
   ]
  },
  {
   "cell_type": "code",
   "execution_count": 38,
   "metadata": {},
   "outputs": [],
   "source": [
    "#save_obj(history, \"history_BiLSTM\")\n",
    "#history = load_obj(\"history_BiLSTM\")"
   ]
  },
  {
   "cell_type": "code",
   "execution_count": 29,
   "metadata": {
    "scrolled": false
   },
   "outputs": [
    {
     "data": {
      "text/html": [
       "<div>\n",
       "<style scoped>\n",
       "    .dataframe tbody tr th:only-of-type {\n",
       "        vertical-align: middle;\n",
       "    }\n",
       "\n",
       "    .dataframe tbody tr th {\n",
       "        vertical-align: top;\n",
       "    }\n",
       "\n",
       "    .dataframe thead th {\n",
       "        text-align: right;\n",
       "    }\n",
       "</style>\n",
       "<table border=\"1\" class=\"dataframe\">\n",
       "  <thead>\n",
       "    <tr style=\"text-align: right;\">\n",
       "      <th></th>\n",
       "      <th>val_loss</th>\n",
       "      <th>val_acc</th>\n",
       "      <th>loss</th>\n",
       "      <th>acc</th>\n",
       "    </tr>\n",
       "  </thead>\n",
       "  <tbody>\n",
       "    <tr>\n",
       "      <th>0</th>\n",
       "      <td>0.060639</td>\n",
       "      <td>0.977366</td>\n",
       "      <td>0.141013</td>\n",
       "      <td>0.965318</td>\n",
       "    </tr>\n",
       "    <tr>\n",
       "      <th>1</th>\n",
       "      <td>0.042474</td>\n",
       "      <td>0.983444</td>\n",
       "      <td>0.046609</td>\n",
       "      <td>0.982070</td>\n",
       "    </tr>\n",
       "  </tbody>\n",
       "</table>\n",
       "</div>"
      ],
      "text/plain": [
       "   val_loss   val_acc      loss       acc\n",
       "0  0.060639  0.977366  0.141013  0.965318\n",
       "1  0.042474  0.983444  0.046609  0.982070"
      ]
     },
     "execution_count": 29,
     "metadata": {},
     "output_type": "execute_result"
    }
   ],
   "source": [
    "hist = pd.DataFrame(history.history)\n",
    "hist"
   ]
  },
  {
   "cell_type": "code",
   "execution_count": 30,
   "metadata": {
    "scrolled": true
   },
   "outputs": [
    {
     "data": {
      "image/png": "[encoded data removed]",
      "text/plain": [
       "<matplotlib.figure.Figure at 0x7f07b07167f0>"
      ]
     },
     "metadata": {
      "needs_background": "light"
     },
     "output_type": "display_data"
    }
   ],
   "source": [
    "plt.figure(figsize=(12,12))\n",
    "plt.plot(hist[\"acc\"])\n",
    "plt.plot(hist[\"val_acc\"])\n",
    "plt.show()"
   ]
  },
  {
   "cell_type": "code",
   "execution_count": 78,
   "metadata": {},
   "outputs": [],
   "source": [
    "# serialize model to JSON\n",
    "\n",
    "model_json = model.to_json()\n",
    "with open(\"saved_things/model.json\", \"w\") as json_file:\n",
    "    json_file.write(model_json)"
   ]
  },
  {
   "cell_type": "markdown",
   "metadata": {},
   "source": [
    "## Predictions"
   ]
  },
  {
   "cell_type": "code",
   "execution_count": 76,
   "metadata": {},
   "outputs": [
    {
     "name": "stdout",
     "output_type": "stream",
     "text": [
      "Word           ||True ||Pred\n",
      "==============================\n",
      "this           : O     O\n",
      "lacks          : O     O\n",
      "a              : O     O\n",
      "bit            : O     O\n",
      "of             : O     O\n",
      "midpalate      : O     O\n",
      "richness       : O     O\n",
      "but            : O     O\n",
      "otherwise      : O     O\n",
      "offers         : O     O\n",
      "fine           : O     O\n",
      "drinking       : O     O\n",
      "clove          : B-aroma B-aroma\n",
      "cinnamon       : B-aroma O\n",
      "and            : O     O\n",
      "leather        : B-aroma B-aroma\n",
      "complexities   : O     O\n",
      "keep           : O     O\n",
      "the            : O     O\n",
      "cherry         : O     O\n",
      "flavors        : O     O\n",
      "interesting    : O     O\n",
      "while          : O     O\n",
      "the            : O     O\n",
      "finish         : B-taste B-taste\n",
      "is             : O     O\n",
      "clean          : O     O\n",
      "and            : O     O\n",
      "crisp          : O     O\n",
      "drink          : O     O\n",
      "now            : O     O\n",
      "ENDPAD         : O     O\n",
      "ENDPAD         : O     O\n",
      "ENDPAD         : O     O\n",
      "ENDPAD         : O     O\n",
      "ENDPAD         : O     O\n",
      "ENDPAD         : O     O\n",
      "ENDPAD         : O     O\n",
      "ENDPAD         : O     O\n",
      "ENDPAD         : O     O\n",
      "ENDPAD         : O     O\n",
      "ENDPAD         : O     O\n",
      "ENDPAD         : O     O\n",
      "ENDPAD         : O     O\n",
      "ENDPAD         : O     O\n",
      "ENDPAD         : O     O\n",
      "ENDPAD         : O     O\n",
      "ENDPAD         : O     O\n",
      "ENDPAD         : O     O\n",
      "ENDPAD         : O     O\n",
      "ENDPAD         : O     O\n",
      "ENDPAD         : O     O\n",
      "ENDPAD         : O     O\n",
      "ENDPAD         : O     O\n",
      "ENDPAD         : O     O\n",
      "ENDPAD         : O     O\n",
      "ENDPAD         : O     O\n",
      "ENDPAD         : O     O\n",
      "ENDPAD         : O     O\n",
      "ENDPAD         : O     O\n",
      "ENDPAD         : O     O\n",
      "ENDPAD         : O     O\n",
      "ENDPAD         : O     O\n",
      "ENDPAD         : O     O\n",
      "ENDPAD         : O     O\n",
      "ENDPAD         : O     O\n",
      "ENDPAD         : O     O\n",
      "ENDPAD         : O     O\n",
      "ENDPAD         : O     O\n",
      "ENDPAD         : O     O\n",
      "ENDPAD         : O     O\n",
      "ENDPAD         : O     O\n",
      "ENDPAD         : O     O\n",
      "ENDPAD         : O     O\n",
      "ENDPAD         : O     O\n",
      "ENDPAD         : O     O\n",
      "ENDPAD         : O     O\n",
      "ENDPAD         : O     O\n",
      "ENDPAD         : O     O\n",
      "ENDPAD         : O     O\n",
      "ENDPAD         : O     O\n",
      "ENDPAD         : O     O\n",
      "ENDPAD         : O     O\n",
      "ENDPAD         : O     O\n",
      "ENDPAD         : O     O\n",
      "ENDPAD         : O     O\n",
      "ENDPAD         : O     O\n",
      "ENDPAD         : O     O\n",
      "ENDPAD         : O     O\n",
      "ENDPAD         : O     O\n",
      "ENDPAD         : O     O\n",
      "ENDPAD         : O     O\n",
      "ENDPAD         : O     O\n",
      "ENDPAD         : O     O\n",
      "ENDPAD         : O     O\n",
      "ENDPAD         : O     O\n",
      "ENDPAD         : O     O\n",
      "ENDPAD         : O     O\n",
      "ENDPAD         : O     O\n",
      "ENDPAD         : O     O\n",
      "ENDPAD         : O     O\n",
      "ENDPAD         : O     O\n",
      "ENDPAD         : O     O\n",
      "ENDPAD         : O     O\n",
      "ENDPAD         : O     O\n",
      "ENDPAD         : O     O\n",
      "ENDPAD         : O     O\n",
      "ENDPAD         : O     O\n",
      "ENDPAD         : O     O\n",
      "ENDPAD         : O     O\n",
      "ENDPAD         : O     O\n",
      "ENDPAD         : O     O\n",
      "ENDPAD         : O     O\n",
      "ENDPAD         : O     O\n",
      "ENDPAD         : O     O\n",
      "ENDPAD         : O     O\n",
      "ENDPAD         : O     O\n"
     ]
    }
   ],
   "source": [
    "i = 19\n",
    "p = model.predict(np.array([X_te[i]]))\n",
    "p = np.argmax(p, axis=-1)\n",
    "true = np.argmax(y_te[i], -1)\n",
    "print(\"{:15}||{:5}||{}\".format(\"Word\", \"True\", \"Pred\"))\n",
    "print(30 * \"=\")\n",
    "for w, t, pred in zip(X_te[i], true, p[0]):\n",
    "    if w != 0:\n",
    "        print(\"{:15}: {:5} {}\".format(words[w-1], tags[t], tags[pred]))"
   ]
  },
  {
   "cell_type": "markdown",
   "metadata": {},
   "source": [
    "# LSTM-CRF"
   ]
  },
  {
   "cell_type": "code",
   "execution_count": 80,
   "metadata": {},
   "outputs": [],
   "source": [
    "inputt = Input(shape = (max_len,))\n",
    "model2 = Embedding(input_dim=n_words + 1, output_dim=20, input_length=max_len, mask_zero=True)(inputt)  # 20-dim embedding\n",
    "model2 = Bidirectional(LSTM(units=50, return_sequences=True, recurrent_dropout=0.1))(model2)  # variational biLSTM\n",
    "model2 = TimeDistributed(Dense(50, activation=\"relu\"))(model2)  # a dense layer as suggested by neuralNer\n",
    "\n",
    "# Applying CRF after Bi-LSTM, after timedistributed layer\n",
    "crf = CRF(n_tags)  # CRF layer\n",
    "out = crf(model2) "
   ]
  },
  {
   "cell_type": "code",
   "execution_count": 81,
   "metadata": {},
   "outputs": [],
   "source": [
    "model2 = Model(inputt, out)"
   ]
  },
  {
   "cell_type": "code",
   "execution_count": 82,
   "metadata": {},
   "outputs": [
    {
     "name": "stderr",
     "output_type": "stream",
     "text": [
      "/usr/local/lib/python3.6/dist-packages/keras_contrib/layers/crf.py:353: UserWarning: CRF.accuracy is deprecated and it might be removed in the future. Please use metrics.crf_accuracy\n",
      "  warnings.warn('CRF.accuracy is deprecated and it '\n"
     ]
    }
   ],
   "source": [
    "model2.compile(optimizer=\"rmsprop\", loss=losses.crf_loss, metrics=[crf.accuracy]) #crf.loss_function losses.crf_loss"
   ]
  },
  {
   "cell_type": "code",
   "execution_count": 83,
   "metadata": {},
   "outputs": [
    {
     "name": "stdout",
     "output_type": "stream",
     "text": [
      "_________________________________________________________________\n",
      "Layer (type)                 Output Shape              Param #   \n",
      "=================================================================\n",
      "input_5 (InputLayer)         (None, 117)               0         \n",
      "_________________________________________________________________\n",
      "embedding_5 (Embedding)      (None, 117, 20)           294820    \n",
      "_________________________________________________________________\n",
      "bidirectional_5 (Bidirection (None, 117, 100)          28400     \n",
      "_________________________________________________________________\n",
      "time_distributed_5 (TimeDist (None, 117, 50)           5050      \n",
      "_________________________________________________________________\n",
      "crf_2 (CRF)                  (None, 117, 7)            420       \n",
      "=================================================================\n",
      "Total params: 328,690\n",
      "Trainable params: 328,690\n",
      "Non-trainable params: 0\n",
      "_________________________________________________________________\n"
     ]
    }
   ],
   "source": [
    "model2.summary()"
   ]
  },
  {
   "cell_type": "code",
   "execution_count": 84,
   "metadata": {
    "scrolled": false
   },
   "outputs": [
    {
     "name": "stdout",
     "output_type": "stream",
     "text": [
      "Train on 6300 samples, validate on 2700 samples\n",
      "Epoch 1/2\n",
      "6300/6300 [==============================] - 120s 19ms/step - loss: 0.1693 - crf_viterbi_accuracy: 0.9638 - val_loss: 0.0797 - val_crf_viterbi_accuracy: 0.9736\n",
      "Epoch 2/2\n",
      "6300/6300 [==============================] - 117s 19ms/step - loss: 0.0619 - crf_viterbi_accuracy: 0.9763 - val_loss: 0.0500 - val_crf_viterbi_accuracy: 0.9801\n"
     ]
    }
   ],
   "source": [
    "history2 = model2.fit(X_tr, np.array(y_tr), batch_size=32, epochs=2, validation_split=0.3, verbose=1)"
   ]
  },
  {
   "cell_type": "code",
   "execution_count": 41,
   "metadata": {},
   "outputs": [],
   "source": [
    "#save_obj(history2, \"history_BiLSTM_CRF\")\n",
    "#history2 = load_obj(\"history_BiLSTM_CRF\")"
   ]
  },
  {
   "cell_type": "code",
   "execution_count": 85,
   "metadata": {},
   "outputs": [
    {
     "data": {
      "text/html": [
       "<div>\n",
       "<style scoped>\n",
       "    .dataframe tbody tr th:only-of-type {\n",
       "        vertical-align: middle;\n",
       "    }\n",
       "\n",
       "    .dataframe tbody tr th {\n",
       "        vertical-align: top;\n",
       "    }\n",
       "\n",
       "    .dataframe thead th {\n",
       "        text-align: right;\n",
       "    }\n",
       "</style>\n",
       "<table border=\"1\" class=\"dataframe\">\n",
       "  <thead>\n",
       "    <tr style=\"text-align: right;\">\n",
       "      <th></th>\n",
       "      <th>val_loss</th>\n",
       "      <th>val_crf_viterbi_accuracy</th>\n",
       "      <th>loss</th>\n",
       "      <th>crf_viterbi_accuracy</th>\n",
       "    </tr>\n",
       "  </thead>\n",
       "  <tbody>\n",
       "    <tr>\n",
       "      <th>0</th>\n",
       "      <td>0.079682</td>\n",
       "      <td>0.973590</td>\n",
       "      <td>0.169334</td>\n",
       "      <td>0.963805</td>\n",
       "    </tr>\n",
       "    <tr>\n",
       "      <th>1</th>\n",
       "      <td>0.050005</td>\n",
       "      <td>0.980076</td>\n",
       "      <td>0.061909</td>\n",
       "      <td>0.976298</td>\n",
       "    </tr>\n",
       "  </tbody>\n",
       "</table>\n",
       "</div>"
      ],
      "text/plain": [
       "   val_loss  val_crf_viterbi_accuracy      loss  crf_viterbi_accuracy\n",
       "0  0.079682                  0.973590  0.169334              0.963805\n",
       "1  0.050005                  0.980076  0.061909              0.976298"
      ]
     },
     "execution_count": 85,
     "metadata": {},
     "output_type": "execute_result"
    }
   ],
   "source": [
    "hist2 = pd.DataFrame(history2.history)\n",
    "hist2"
   ]
  },
  {
   "cell_type": "markdown",
   "metadata": {},
   "source": [
    "The Viterbi algorithm is a dynamic programming algorithm for finding the most likely sequence of hidden states"
   ]
  },
  {
   "cell_type": "code",
   "execution_count": 44,
   "metadata": {
    "scrolled": false
   },
   "outputs": [
    {
     "data": {
      "image/png": "[encoded data removed]",
      "text/plain": [
       "<matplotlib.figure.Figure at 0x7f07aa312710>"
      ]
     },
     "metadata": {
      "needs_background": "light"
     },
     "output_type": "display_data"
    }
   ],
   "source": [
    "plt.figure(figsize=(12,12))\n",
    "plt.plot(hist2[\"crf_viterbi_accuracy\"])\n",
    "plt.plot(hist2[\"val_crf_viterbi_accuracy\"])\n",
    "plt.show()"
   ]
  },
  {
   "cell_type": "code",
   "execution_count": 86,
   "metadata": {},
   "outputs": [],
   "source": [
    "# serialize model to JSON\n",
    "model2_json = model2.to_json()\n",
    "with open(\"saved_things/model2.json\", \"w\") as json_file:\n",
    "    json_file.write(model2_json)"
   ]
  },
  {
   "cell_type": "markdown",
   "metadata": {},
   "source": [
    "# Model Evaluation"
   ]
  },
  {
   "cell_type": "code",
   "execution_count": 46,
   "metadata": {},
   "outputs": [
    {
     "name": "stdout",
     "output_type": "stream",
     "text": [
      "1000/1000 [==============================] - 6s 6ms/step\n"
     ]
    }
   ],
   "source": [
    "test_pred = model2.predict(X_te, verbose=1)"
   ]
  },
  {
   "cell_type": "code",
   "execution_count": 58,
   "metadata": {},
   "outputs": [],
   "source": [
    "idx2tag = {i: w for w, i in tag2idx.items()}\n",
    "\n",
    "def pred2label(pred):\n",
    "    out = []\n",
    "    for pred_i in pred:\n",
    "        out_i = []\n",
    "        for p in pred_i:\n",
    "            p_i = np.argmax(p)\n",
    "            out_i.append(idx2tag[p_i].replace(\"PAD\", \"O\"))\n",
    "        out.append(out_i)\n",
    "    return out\n",
    "    \n",
    "pred_labels = pred2label(test_pred)\n",
    "test_labels = pred2label(y_te)"
   ]
  },
  {
   "cell_type": "markdown",
   "metadata": {},
   "source": [
    "## Performance metrics"
   ]
  },
  {
   "cell_type": "code",
   "execution_count": null,
   "metadata": {},
   "outputs": [],
   "source": [
    "from sklearn_crfsuite import metrics"
   ]
  },
  {
   "cell_type": "code",
   "execution_count": 62,
   "metadata": {},
   "outputs": [
    {
     "data": {
      "text/plain": [
       "0.248"
      ]
     },
     "execution_count": 62,
     "metadata": {},
     "output_type": "execute_result"
    }
   ],
   "source": [
    "metrics.sequence_accuracy_score(test_labels, pred_labels) # two sequences are equal at all"
   ]
  },
  {
   "cell_type": "code",
   "execution_count": 63,
   "metadata": {
    "scrolled": true
   },
   "outputs": [
    {
     "data": {
      "text/plain": [
       "0.9797008547008547"
      ]
     },
     "execution_count": 63,
     "metadata": {},
     "output_type": "execute_result"
    }
   ],
   "source": [
    "metrics.flat_accuracy_score(test_labels, pred_labels) # couts each words label alone, not all the sequence"
   ]
  },
  {
   "cell_type": "code",
   "execution_count": 64,
   "metadata": {},
   "outputs": [
    {
     "data": {
      "text/plain": [
       "array([0.71705426, 0.65305372, 0.80930065, 0.26192567, 0.57595993,\n",
       "       0.40128411, 0.99339743])"
      ]
     },
     "execution_count": 64,
     "metadata": {},
     "output_type": "execute_result"
    }
   ],
   "source": [
    "metrics.flat_fbeta_score(test_labels, pred_labels, 2, average=None)  # F2 score for each class"
   ]
  },
  {
   "cell_type": "code",
   "execution_count": 66,
   "metadata": {
    "scrolled": true
   },
   "outputs": [
    {
     "data": {
      "text/plain": [
       "array([0.74      , 0.67362429, 0.81046931, 0.24189189, 0.56557377,\n",
       "       0.35971223, 0.99327386])"
      ]
     },
     "execution_count": 66,
     "metadata": {},
     "output_type": "execute_result"
    }
   ],
   "source": [
    "metrics.flat_recall_score(test_labels, pred_labels, average=None)"
   ]
  },
  {
   "cell_type": "code",
   "execution_count": 67,
   "metadata": {
    "scrolled": true
   },
   "outputs": [
    {
     "data": {
      "text/plain": [
       "'              precision    recall  f1-score   support\\n\\n     B-aroma       0.64      0.74      0.69      2250\\n     B-fruit       0.58      0.67      0.62       527\\n     B-taste       0.80      0.81      0.81       554\\n     I-aroma       0.39      0.24      0.30       740\\n     I-fruit       0.62      0.57      0.59       244\\n     I-taste       0.75      0.36      0.49       139\\n           O       0.99      0.99      0.99    112546\\n\\n   micro avg       0.98      0.98      0.98    117000\\n   macro avg       0.68      0.63      0.64    117000\\nweighted avg       0.98      0.98      0.98    117000\\n'"
      ]
     },
     "execution_count": 67,
     "metadata": {},
     "output_type": "execute_result"
    }
   ],
   "source": [
    "metrics.flat_classification_report(test_labels, pred_labels) "
   ]
  },
  {
   "cell_type": "markdown",
   "metadata": {},
   "source": [
    "## Predictions"
   ]
  },
  {
   "cell_type": "code",
   "execution_count": 21,
   "metadata": {
    "scrolled": false
   },
   "outputs": [
    {
     "name": "stdout",
     "output_type": "stream",
     "text": [
      "Word           ||True ||Pred\n",
      "==============================\n",
      "this           : O     O\n",
      "beautiful      : O     O\n",
      "rich           : O     O\n",
      "wine           : O     O\n",
      "has            : O     O\n",
      "yellow         : B-fruit B-fruit\n",
      "fruits         : I-fruit I-fruit\n",
      "and            : O     O\n",
      "is             : O     O\n",
      "concentrated   : O     O\n",
      "tightly        : O     O\n",
      "textured       : O     O\n",
      "and            : O     O\n",
      "conveys        : O     O\n",
      "a              : O     O\n",
      "ripe           : B-aroma B-aroma\n",
      "character      : O     O\n",
      "the            : O     O\n",
      "touches        : O     O\n",
      "of             : O     O\n",
      "wood           : O     O\n",
      "are            : O     O\n",
      "just           : O     O\n",
      "right          : O     O\n",
      "adding         : O     O\n",
      "spice          : B-aroma B-aroma\n",
      "to             : O     O\n",
      "the            : O     O\n",
      "opulent        : O     O\n",
      "fruitiness     : O     O\n",
      "a              : O     O\n",
      "mineral        : B-aroma B-aroma\n",
      "texture        : O     O\n",
      "gives          : O     O\n",
      "some           : O     O\n",
      "tightness      : O     O\n",
      "to             : O     O\n",
      "the            : O     O\n",
      "aftertaste     : O     O\n",
      "drink          : O     O\n",
      "from           : O     O\n",
      "2024           : O     O\n",
      "ENDPAD         : O     O\n",
      "ENDPAD         : O     O\n",
      "ENDPAD         : O     O\n",
      "ENDPAD         : O     O\n",
      "ENDPAD         : O     O\n",
      "ENDPAD         : O     O\n",
      "ENDPAD         : O     O\n",
      "ENDPAD         : O     O\n",
      "ENDPAD         : O     O\n",
      "ENDPAD         : O     O\n",
      "ENDPAD         : O     O\n",
      "ENDPAD         : O     O\n",
      "ENDPAD         : O     O\n",
      "ENDPAD         : O     O\n",
      "ENDPAD         : O     O\n",
      "ENDPAD         : O     O\n",
      "ENDPAD         : O     O\n",
      "ENDPAD         : O     O\n",
      "ENDPAD         : O     O\n",
      "ENDPAD         : O     O\n",
      "ENDPAD         : O     O\n",
      "ENDPAD         : O     O\n",
      "ENDPAD         : O     O\n",
      "ENDPAD         : O     O\n",
      "ENDPAD         : O     O\n",
      "ENDPAD         : O     O\n",
      "ENDPAD         : O     O\n",
      "ENDPAD         : O     O\n",
      "ENDPAD         : O     O\n",
      "ENDPAD         : O     O\n",
      "ENDPAD         : O     O\n",
      "ENDPAD         : O     O\n",
      "ENDPAD         : O     O\n",
      "ENDPAD         : O     O\n",
      "ENDPAD         : O     O\n",
      "ENDPAD         : O     O\n",
      "ENDPAD         : O     O\n",
      "ENDPAD         : O     O\n",
      "ENDPAD         : O     O\n",
      "ENDPAD         : O     O\n",
      "ENDPAD         : O     O\n",
      "ENDPAD         : O     O\n",
      "ENDPAD         : O     O\n",
      "ENDPAD         : O     O\n",
      "ENDPAD         : O     O\n",
      "ENDPAD         : O     O\n",
      "ENDPAD         : O     O\n",
      "ENDPAD         : O     O\n",
      "ENDPAD         : O     O\n",
      "ENDPAD         : O     O\n",
      "ENDPAD         : O     O\n",
      "ENDPAD         : O     O\n",
      "ENDPAD         : O     O\n",
      "ENDPAD         : O     O\n",
      "ENDPAD         : O     O\n",
      "ENDPAD         : O     O\n",
      "ENDPAD         : O     O\n",
      "ENDPAD         : O     O\n",
      "ENDPAD         : O     O\n",
      "ENDPAD         : O     O\n",
      "ENDPAD         : O     O\n",
      "ENDPAD         : O     O\n",
      "ENDPAD         : O     O\n",
      "ENDPAD         : O     O\n",
      "ENDPAD         : O     O\n",
      "ENDPAD         : O     O\n",
      "ENDPAD         : O     O\n",
      "ENDPAD         : O     O\n",
      "ENDPAD         : O     O\n",
      "ENDPAD         : O     O\n",
      "ENDPAD         : O     O\n",
      "ENDPAD         : O     O\n",
      "ENDPAD         : O     O\n",
      "ENDPAD         : O     O\n",
      "ENDPAD         : O     O\n"
     ]
    }
   ],
   "source": [
    "i = 19\n",
    "p = model.predict(np.array([X_te[i]]))\n",
    "p = np.argmax(p, axis=-1)\n",
    "true = np.argmax(y_te[i], -1)\n",
    "print(\"{:15}||{:5}||{}\".format(\"Word\", \"True\", \"Pred\"))\n",
    "print(30 * \"=\")\n",
    "for w, t, pred in zip(X_te[i], true, p[0]):\n",
    "    if w != 0:\n",
    "        print(\"{:15}: {:5} {}\".format(words[w-1], tags[t], tags[pred]))"
   ]
  },
  {
   "cell_type": "markdown",
   "metadata": {},
   "source": [
    "# Try on OCRS"
   ]
  },
  {
   "cell_type": "code",
   "execution_count": 24,
   "metadata": {},
   "outputs": [],
   "source": [
    "import json \n",
    "directory = \"saved_things/\"\n",
    "\n",
    "ocrs_dict = {}\n",
    "with open(directory + 'ocrs_dictionary_improved.json' ) as json_data:\n",
    "    ocrs_dict = json.load(json_data)\n",
    "    json_data.close()\n",
    "    \n",
    "    \n",
    "sentences = []\n",
    "for key, val in ocrs_dict.items():\n",
    "    sentences.append(val.lower())"
   ]
  },
  {
   "cell_type": "code",
   "execution_count": null,
   "metadata": {},
   "outputs": [],
   "source": [
    "# GRAPES\n",
    "with open('knowledge/grapes.json') as json_data:\n",
    "    grapes = json.load(json_data)\n",
    "    json_data.close()\n",
    "    grapes = grapes['grapes']\n",
    "\n",
    "grapes = [i.lower() for i in grapes]\n",
    "gr = [\" \" + grape + \" \" for grape in grapes]\n",
    "\n",
    "\n",
    "# WINE KIND\n",
    "with open('knowledge/kind.json') as json_data:\n",
    "    kind = json.load(json_data)\n",
    "    json_data.close()\n",
    "    kind = kind['kind']\n",
    "\n",
    "kind = [i.lower() for i in kind]\n",
    "kind = [\" \" + i.lower()+\" \" for i in kind]\n",
    "\n",
    "\n",
    "# ITA WINENAME\n",
    "with open('knowledge/appellations-it.json') as json_data:\n",
    "    winename = json.load(json_data)\n",
    "    json_data.close()\n",
    "    winename = winename['appellations']\n",
    "    \n",
    "winename = [i.lower() for i in winename]\n",
    "\n",
    "\n",
    "# USA WINENAME\n",
    "winename_usa_tmp = pd.read_csv('knowledge/appellations-usa.csv')\n",
    "winename_usa_tmp.iloc[:,0] = winename_usa_tmp.iloc[:,0] .map(lambda x: x.replace(' AVA',''))\n",
    "\n",
    "winename_usa = list(winename_usa_tmp.iloc[:,0])\n",
    "winename_usa = [x.lower() for x in winename_usa]\n",
    "\n",
    "ORG = [\"Winery\", \"Company\", \"Companies\", \"Cellar\"]\n",
    "\n",
    "places = [\"Missouri\", \"City\", 'san benito county', \"new york\", \"COLCHAGUA VALLEY\", \"san luis obispo\",\\\n",
    "          \"Italy\", \"New Zealand\", \"St. Louis County\", \"Columbia Valley\", \"Carolina\", \"Spain\", \"Italia\", \\\n",
    "          \"France\", \"Slovenija\", \"Australia\", \"Chile\", \"España\", \"USA\", \"Canada\", \"Oregon\", \"California\",\\\n",
    "          \"Europe\", \"NAPA\", \"Portland\", \"yorkville\", \"Santa Clara County\", \"monterey county\", \"Oakville\",\\\n",
    "          \"Walla walla\", \"St Helena\", \"santa barbara county\", \"Saint Helena\", \"New Mexico\", \"Manhasset\"]\n",
    "\n",
    "vineyards = ['gimelli vineyards', 'Boenker Hill Vineyard', 'edna valley vineyard', 'laetitia vineyard', \\\n",
    "             'Lockwood Vineyards', 'Skyfall Vineyard', 'sonoma coast vineyards', 'balletto vineyards', \\\n",
    "             'Becker Vineyards', 'mount baker vineyards', 'guerra vineyards', 'camelot vineyard', 'pedregal vineyard', \\\n",
    "             'chalone vineyard', 'adastra vineyard', 'sangiovese vineyards', 'weir vineyard', \\\n",
    "             'spring hill vineyards', 'adelsheim vineyard', 'gunsalus vineyard', 'leaping horse vineyards', \\\n",
    "             'reed vineyard', 'ADIRONDACK WINERY', 'Chapelle Winery']\n",
    "vineyards = [x.lower() for x in vineyards]"
   ]
  },
  {
   "cell_type": "code",
   "execution_count": 26,
   "metadata": {
    "scrolled": true
   },
   "outputs": [
    {
     "data": {
      "text/plain": [
       "'celebre rose is a methode champenoise\\nsparkling wine made from pinot meunier.\\n\\ndr. konstantin frank, was the first to pioneer\\nquality vinifera in the eastern united states.\\nfor over fifty-five years, the winery has been\\namong the most prestigious in the finger lakes\\nwine region of new york state. our story is\\na legacy four generations in the making.\\n\\nproduced & bottled by\\nchateau frank inc. hammondsport, n.y. 14840\\n\\ngovernment warning: (1) according to the surgeon\\ngeneral, women should not drink alcoholic beverages\\nduring pregnancy because of the risk of birth defects.\\n(2) consumption of alcoholic beverages impairs your\\nability to drive a car or\\n\\noperate machinery, and\\n\\nmay cause health problems.\\n\\n12% alc. vol.750ml\\ncontains sulfites'"
      ]
     },
     "execution_count": 26,
     "metadata": {},
     "output_type": "execute_result"
    }
   ],
   "source": [
    "sentences[2]"
   ]
  }
 ],
 "metadata": {
  "kernelspec": {
   "display_name": "Python 3",
   "language": "python",
   "name": "python3"
  },
  "language_info": {
   "codemirror_mode": {
    "name": "ipython",
    "version": 3
   },
   "file_extension": ".py",
   "mimetype": "text/x-python",
   "name": "python",
   "nbconvert_exporter": "python",
   "pygments_lexer": "ipython3",
   "version": "3.6.8"
  }
 },
 "nbformat": 4,
 "nbformat_minor": 2
}
