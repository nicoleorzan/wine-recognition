{
 "cells": [
  {
   "cell_type": "markdown",
   "metadata": {},
   "source": [
    "# Sentence Tagging"
   ]
  },
  {
   "cell_type": "code",
   "execution_count": 15,
   "metadata": {},
   "outputs": [],
   "source": [
    "import re\n",
    "\n",
    "import nltk\n",
    "import nltk.stem as stem\n",
    "from nltk import pos_tag\n",
    "\n",
    "import spacy\n",
    "\n",
    "import matplotlib.pyplot as plt\n",
    "plt.style.use(\"ggplot\")"
   ]
  },
  {
   "cell_type": "code",
   "execution_count": null,
   "metadata": {},
   "outputs": [],
   "source": [
    "nlp = spacy.load('en_core_web_md')"
   ]
  },
  {
   "cell_type": "code",
   "execution_count": 2,
   "metadata": {},
   "outputs": [],
   "source": [
    "import pickle\n",
    "\n",
    "def load_obj(name):\n",
    "    with open('saved_things/' + name + '.pkl', 'rb') as f:\n",
    "        return pickle.load(f)\n",
    "    \n",
    "def save_obj(obj, name):\n",
    "    with open('saved_things/' + name + '.pkl', 'wb') as f:\n",
    "        pickle.dump(obj, f, pickle.HIGHEST_PROTOCOL)"
   ]
  },
  {
   "cell_type": "markdown",
   "metadata": {},
   "source": [
    "### Tag words lists"
   ]
  },
  {
   "cell_type": "code",
   "execution_count": 48,
   "metadata": {},
   "outputs": [],
   "source": [
    "import json\n",
    "import pandas as pd\n",
    "\n",
    "# GRAPES\n",
    "with open('knowledge/grapes.json') as json_data:\n",
    "    grapes = json.load(json_data)\n",
    "    json_data.close()\n",
    "    grapes = grapes['grapes']\n",
    "\n",
    "grapes = [i.lower() for i in grapes]\n",
    "gr = [\" \" + grape + \" \" for grape in grapes]\n",
    "\n",
    "\n",
    "# WINE KIND\n",
    "with open('knowledge/kind.json') as json_data:\n",
    "    kind = json.load(json_data)\n",
    "    json_data.close()\n",
    "    kind = kind['kind']\n",
    "\n",
    "kind = [i.lower() for i in kind]\n",
    "kind = [\" \" + i.lower()+\" \" for i in kind]\n",
    "\n",
    "\n",
    "# ITA WINENAME\n",
    "with open('knowledge/appellations-it.json') as json_data:\n",
    "    winename = json.load(json_data)\n",
    "    json_data.close()\n",
    "    winename = winename['appellations']\n",
    "winename = [i.lower() for i in winename]\n",
    "\n",
    "\n",
    "# USA WINENAME\n",
    "winename_usa_tmp = pd.read_csv('knowledge/appellations-usa.csv')\n",
    "winename_usa_tmp.iloc[:,0] = winename_usa_tmp.iloc[:,0] .map(lambda x: x.replace(' AVA',''))\n",
    "\n",
    "winename_usa = list(winename_usa_tmp.iloc[:,0])\n",
    "winename_usa = [x.lower() for x in winename_usa]\n",
    "\n",
    "winename = winename + winename_usa\n",
    "\n",
    "ORG = [\"Winery\", \"Company\", \"Companies\", \"Cellar\"]\n",
    "org = [x.lower() for x in ORG]\n",
    "\n",
    "places = [\"Missouri\", \"City\", 'san benito county', \"new york\", \"COLCHAGUA VALLEY\", \"san luis obispo\",\\\n",
    "          \"Italy\", \"New Zealand\", \"St. Louis County\", \"United States\", \"Columbia Valley\", \"Carolina\", \"Spain\", \"Italia\", \\\n",
    "          \"France\", \"Slovenija\", \"Australia\", \"Chile\", \"España\", \"USA\", \"Canada\", \"Oregon\", \"California\",\\\n",
    "          \"Europe\", \"NAPA\", \"Portland\", \"yorkville\", \"Santa Clara County\", \"monterey county\", \"Oakville\",\\\n",
    "          \"Walla walla\", \"St Helena\", \"santa barbara county\", \"Saint Helena\", \"New Mexico\", \"Manhasset\"]\n",
    "places = [x.lower() for x in places]\n",
    "\n",
    "vineyards = ['gimelli vineyards', 'Boenker Hill Vineyard', 'edna valley vineyard', 'laetitia vineyard', \\\n",
    "             'Lockwood Vineyards', 'Skyfall Vineyard', 'sonoma coast vineyards', 'balletto vineyards', \\\n",
    "             'Becker Vineyards', 'mount baker vineyards', 'guerra vineyards', 'camelot vineyard', 'pedregal vineyard', \\\n",
    "             'chalone vineyard', 'adastra vineyard', 'sangiovese vineyards', 'weir vineyard', \\\n",
    "             'spring hill vineyards', 'adelsheim vineyard', 'gunsalus vineyard', 'leaping horse vineyards', \\\n",
    "             'reed vineyard', 'ADIRONDACK WINERY', 'Chapelle Winery']\n",
    "vineyards = [x.lower() for x in vineyards]"
   ]
  },
  {
   "cell_type": "code",
   "execution_count": 74,
   "metadata": {},
   "outputs": [],
   "source": [
    "taste = [\"Semi-Dry\", \"SemiDry\", \"Semi Dry\", \"Medium-Dry\", \"MediumDry\",  \"Medium Dry\", \"Dry\", \\\n",
    "         \"Semi-Sweet\", \"SemiSweet\", \"Semi Sweet\", \"Sweet\", \"Medium-Sweet\", \"MediumSweet\", \"Medium Sweet\", \\\n",
    "         \"Full-Bodied\", \"FullBodied\", \"Full Bodied\", \"Medium-Bodied\", \"MediumBodied\", \"Medium Bodied\", \\\n",
    "         \"Crisp\", \"Balance\", \"rough\", \"tannic\", \"tannins\", \"smooth\", \"sparkling\", \"finish\", \\\n",
    "         \"palate\", \"acidity\"]\n",
    "taste = [x.lower() for x in taste]\n",
    "\n",
    "fruit = [\"Honey\", \"Fruit\", \"Strawberry\", \"Raspberry\", \"Apple\", \"Citrus\", \"Vanilla\", \"Pineapple\", \"Sage\", \"Flower\", \\\n",
    "         \"Pear\", \"Mint\", \"Plum\", \"Blackberry\", \"Cherry\", \"Melon\", \"Peach\", \"Lemon\", \"Lime\", \"Mango\", \"Berry\"]\n",
    "fruit = [x.lower() for x in fruit]\n",
    "\n",
    "with open(\"knowledge/list_aromas.txt\", \"rb\") as fp:\n",
    "    aromas = pickle.load(fp)\n",
    "\n",
    "aromas1 = aromas + ['spices', 'floral', 'cork', 'ripe', 'grabby','cigar', 'guava', 'ripe', \\\n",
    "                 'blackberry', 'herb', 'spice', 'fresh','rind', 'structured', \\\n",
    "                'spice', 'espresso', 'buttercream','mineral','pepper','clove', \\\n",
    "                'licorice', 'tannins', 'tart', 'snappy']\n",
    "\n",
    "aromas3 = ['red berry fruits', 'dark plum fruit', 'oak-driven aromas']\n",
    "\n",
    "aromas2 = ['berry fruits', 'black fruit', 'red fruit', 'black cherry', 'supple plum', 'green apple', 'red apple', \\\n",
    "            'dried fruit','dried sage', 'dried herb', 'tropical fruit', 'baked plum', 'dark plum', 'candied berry', 'off dry', \\\n",
    "            'yellow flower', 'yellow fruit', 'yellow-fruit', 'white flower', 'savory herb', 'ripe pineapple',\\\n",
    "            'coffee beans', 'savory herb', 'white pepper', 'tannic backbone', 'coffee bean', 'apple notes' ,\\\n",
    "            'orange blossom']\n",
    "\n",
    "aromas4 = ['juicy red berry fruits']"
   ]
  },
  {
   "cell_type": "code",
   "execution_count": 7,
   "metadata": {},
   "outputs": [],
   "source": [
    "def sentence_setup(sent):\n",
    "    \n",
    "    '''preparing tuplas of sentences where the pos tag is already \n",
    "    performed, but we still have to perfrom the BIO tag. \n",
    "    Tuple form: ('word', 'verb/noun/whatever', 'O')'''\n",
    "    \n",
    "    lenw = 0\n",
    "    tupla = []\n",
    "    POS_tag = pos_tag(sent.split())\n",
    "    #doc = nlp(sent)\n",
    "    for idx, w in enumerate(sent.split()): \n",
    "        tupla.append((w, lenw, lenw+len(w), POS_tag[idx][1], 'O', 0))\n",
    "        lenw += len(w)+1\n",
    "    return tupla\n",
    "\n",
    "\n",
    "# ==============================================================\n",
    "# ==============================================================\n",
    "\n",
    "def BIO_tag(label, list_of_words, sent, tupla):\n",
    "    \n",
    "    '''function performing BIO tag inside the tuplas'''\n",
    "    \n",
    "    regex = re.compile('[^a-zA-Z]')\n",
    "    st = stem.RegexpStemmer('ing$|s$|y$|ly$|ed$', min=4)\n",
    "    \n",
    "    lenw=0\n",
    "    for g in list_of_words:\n",
    "        if g in sent:\n",
    "            lis = g.split()\n",
    "            \n",
    "            if len(lis)>1: # my lis is composed of more words\n",
    "                #print(lis)\n",
    "                for idxx, word in enumerate(lis):\n",
    "                    word = regex.sub('', word)\n",
    "                    word = st.stem(word)\n",
    "                    # cerco la prima parola della lista nelle tuple della frase, \n",
    "                    # cercando non per parola ma per indice della parola e lunghezza della stessa\n",
    "                    for idx, t in enumerate(tupla):\n",
    "                        if t[1]==sent.index(g)+lenw:\n",
    "                            if t[5]==0:\n",
    "                                if idxx == 0:\n",
    "                                    tupla[idx] = ((t[0], sent.index(g)+lenw, sent.index(g)+lenw + len(word), t[3],'B'+'-'+label, 1))\n",
    "                                else:\n",
    "                                    tupla[idx] = ((t[0], sent.index(g)+lenw, sent.index(g)+lenw + len(word), t[3], 'I'+'-'+label, 1))\n",
    "                    lenw+=len(word)+1\n",
    "                    \n",
    "            else: # cerco cose composte da una sola parola\n",
    "                for idx, t in enumerate(tupla):\n",
    "                        if regex.sub('', st.stem(t[0])) == g and t[1]==sent.index(g)+lenw:\n",
    "                            if t[5]==0:\n",
    "                                if (idx!=len(tupla)-1 and (tupla[idx+1][3] == 'JJ')):# or tupla[idx+1][3] == 'NN') ):\n",
    "                                    tupla[idx] = ((t[0], sent.index(g)+lenw, sent.index(g)+lenw + len(g), t[3], 'B'+'-'+label, 1))\n",
    "                                    tupla[idx+1] = ((tupla[idx+1][0], tupla[idx+1][1], tupla[idx+1][2], tupla[idx+1][3], 'I'+'-'+ label, 1))\n",
    "                                                                        \n",
    "                                elif (idx!=0 and (\",\" not in tupla[idx-1][3]) and (tupla[idx-1][3] == 'JJ')):# or tupla[idx-1][3] == 'NN') ):\n",
    "                                    tupla[idx-1] = ((tupla[idx-1][0], tupla[idx-1][1], tupla[idx-1][2], tupla[idx-1][3], 'B'+'-'+ label, 1))\n",
    "                                    tupla[idx] = ((t[0], sent.index(g)+lenw, sent.index(g)+lenw + len(g), t[3], 'I'+'-'+label, 1))\n",
    "                                               \n",
    "                                else:\n",
    "                                    tupla[idx] = ((t[0], sent.index(g)+lenw, sent.index(g)+lenw + len(g), t[3], 'B'+'-'+label, 1))\n",
    "\n",
    "    return(tupla)\n",
    "\n",
    "# ============================================================================\n",
    "# ============================================================================\n",
    "\n",
    "\n",
    "def labeling_function(sentences, words_tag_dict):\n",
    "    \n",
    "    ''' MAIN labeing function which calls sentence_setup and BIO_tag '''\n",
    "    \n",
    "    tag_list = []\n",
    "    for i, sent in enumerate(sentences):\n",
    "        if (i%50 == 0): print(i)\n",
    "        sent = sent.lower()\n",
    "        #sent = sent.translate(str.maketrans('', '', string.punctuation))\n",
    "        sent = sent.replace(\",\", \"\").replace(\".\", \"\")\n",
    "        tag_tup = sentence_setup(sent)\n",
    "        \n",
    "        \n",
    "        for key, val in words_tag_dict.items():\n",
    "            tag_tup = BIO_tag(key, val, sent, tag_tup)\n",
    "\n",
    "        tag_list.append(tag_tup)\n",
    "        \n",
    "        \n",
    "    return (tag_list)\n",
    "\n",
    "\n",
    "# ============================================================================\n",
    "# ============================================================================\n",
    "\n",
    "\n",
    "\n",
    "def cleaning(tupla_list):\n",
    "    \n",
    "    '''eliminating useless informatons from tuplas'''\n",
    "    \n",
    "    tupla_list_cleaned = []\n",
    "    for tt in tupla_list:\n",
    "        tmp = []\n",
    "        for t in tt:\n",
    "            tmp.append((t[0], t[3], t[4]))\n",
    "        tupla_list_cleaned.append(tmp)\n",
    "    \n",
    "    return(tupla_list_cleaned)\n"
   ]
  },
  {
   "cell_type": "markdown",
   "metadata": {},
   "source": [
    "## Tagging reviews"
   ]
  },
  {
   "cell_type": "code",
   "execution_count": 8,
   "metadata": {},
   "outputs": [],
   "source": [
    "labeled_reviews = load_obj(\"labeled_reviews\")\n",
    "\n",
    "sentences = [ i[0] for i in labeled_reviews ]\n",
    "\n",
    "tokens_tag = pos_tag(labeled_reviews[2][0].split())\n",
    "\n",
    "\n",
    "\n",
    "with open('knowledge/winemag-data-130k-v2.json') as json_data:\n",
    "    reviews = json.load(json_data)\n",
    "    json_data.close()\n",
    "    \n",
    "rev = []\n",
    "for i in reviews:\n",
    "    rev.append(i['description'])"
   ]
  },
  {
   "cell_type": "code",
   "execution_count": 8,
   "metadata": {},
   "outputs": [
    {
     "data": {
      "text/plain": [
       "\"Aromas include tropical fruit, broom, brimstone and dried herb. The palate isn't overly expressive, offering unripened apple, citrus and dried sage alongside brisk acidity.\""
      ]
     },
     "execution_count": 8,
     "metadata": {},
     "output_type": "execute_result"
    }
   ],
   "source": [
    "rev[0]"
   ]
  },
  {
   "cell_type": "code",
   "execution_count": 75,
   "metadata": {},
   "outputs": [
    {
     "name": "stdout",
     "output_type": "stream",
     "text": [
      "0\n",
      "50\n",
      "100\n",
      "150\n"
     ]
    }
   ],
   "source": [
    "words_tag_dict = {\"aroma\": aromas4, \"aroma\": aromas3, \"aroma\": aromas1, \"fruit\": fruit, \"taste\": taste}\n",
    "\n",
    "tagged_sentences = labeling_function(rev[0:50], words_tag_dict)\n",
    "\n",
    "tagged_sentences = cleaning(tagged_sentences)\n",
    "\n",
    "words = []\n",
    "for t in tagged_sentences:\n",
    "    for w in t:\n",
    "        if w[0] not in words:\n",
    "            words.append(w[0])\n",
    "            \n",
    "words.append(\"ENDPAD\")"
   ]
  },
  {
   "cell_type": "code",
   "execution_count": 77,
   "metadata": {},
   "outputs": [
    {
     "data": {
      "text/plain": [
       "[('this', 'DT', 'O'),\n",
       " ('is', 'VBZ', 'O'),\n",
       " ('ripe', 'JJ', 'B-aroma'),\n",
       " ('and', 'CC', 'O'),\n",
       " ('fruity', 'NN', 'B-fruit'),\n",
       " ('a', 'DT', 'O'),\n",
       " ('wine', 'NN', 'O'),\n",
       " ('that', 'WDT', 'O'),\n",
       " ('is', 'VBZ', 'O'),\n",
       " ('smooth', 'VBN', 'B-taste'),\n",
       " ('while', 'IN', 'O'),\n",
       " ('still', 'RB', 'O'),\n",
       " ('structured', 'VBN', 'O'),\n",
       " ('firm', 'NN', 'O'),\n",
       " ('tannins', 'NNS', 'O'),\n",
       " ('are', 'VBP', 'O'),\n",
       " ('filled', 'VBN', 'O'),\n",
       " ('out', 'RP', 'O'),\n",
       " ('with', 'IN', 'O'),\n",
       " ('juicy', 'NN', 'O'),\n",
       " ('red', 'JJ', 'O'),\n",
       " ('berry', 'NN', 'O'),\n",
       " ('fruits', 'NNS', 'O'),\n",
       " ('and', 'CC', 'O'),\n",
       " ('freshened', 'VBN', 'O'),\n",
       " ('with', 'IN', 'O'),\n",
       " ('acidity', 'NN', 'O'),\n",
       " (\"it's\", 'VBP', 'O'),\n",
       " ('already', 'RB', 'O'),\n",
       " ('drinkable', 'JJ', 'O'),\n",
       " ('although', 'IN', 'O'),\n",
       " ('it', 'PRP', 'O'),\n",
       " ('will', 'MD', 'O'),\n",
       " ('certainly', 'RB', 'O'),\n",
       " ('be', 'VB', 'O'),\n",
       " ('better', 'RB', 'O'),\n",
       " ('from', 'IN', 'O'),\n",
       " ('2016', 'CD', 'O')]"
      ]
     },
     "execution_count": 77,
     "metadata": {},
     "output_type": "execute_result"
    }
   ],
   "source": [
    "tagged_sentences[1]"
   ]
  },
  {
   "cell_type": "code",
   "execution_count": 16,
   "metadata": {
    "scrolled": true
   },
   "outputs": [
    {
     "data": {
      "image/png": "[encoded data removed]",
      "text/plain": [
       "<matplotlib.figure.Figure at 0x7f5e931db828>"
      ]
     },
     "metadata": {
      "needs_background": "light"
     },
     "output_type": "display_data"
    }
   ],
   "source": [
    "plt.hist([len(s) for s in sentences], bins=50)\n",
    "plt.show()"
   ]
  },
  {
   "cell_type": "code",
   "execution_count": null,
   "metadata": {},
   "outputs": [],
   "source": [
    "#save_obj(tagged_sentences, \"\")\n",
    "#save_obj(words, \"\")"
   ]
  },
  {
   "cell_type": "code",
   "execution_count": 18,
   "metadata": {},
   "outputs": [
    {
     "data": {
      "text/plain": [
       "[\"Aromas include tropical fruit, broom, brimstone and dried herb. The palate isn't overly expressive, offering unripened apple, citrus and dried sage alongside brisk acidity.\",\n",
       " \"This is ripe and fruity, a wine that is smooth while still structured. Firm tannins are filled out with juicy red berry fruits and freshened with acidity. It's  already drinkable, although it will certainly be better from 2016.\",\n",
       " 'Tart and snappy, the flavors of lime flesh and rind dominate. Some green pineapple pokes through, with crisp acidity underscoring the flavors. The wine was all stainless-steel fermented.']"
      ]
     },
     "execution_count": 18,
     "metadata": {},
     "output_type": "execute_result"
    }
   ],
   "source": [
    "rev[0:3]"
   ]
  },
  {
   "cell_type": "markdown",
   "metadata": {},
   "source": [
    "## Tagging wines OCRs - TO DO"
   ]
  },
  {
   "cell_type": "code",
   "execution_count": 20,
   "metadata": {},
   "outputs": [],
   "source": [
    "directory = \"saved_things/\"\n",
    "\n",
    "ocrs_dict = {}\n",
    "with open(directory + 'ocrs_dictionary_improved.json' ) as json_data:\n",
    "    ocrs_dict = json.load(json_data)\n",
    "    json_data.close()\n",
    "    \n",
    "    \n",
    "ocrs = []\n",
    "for key, val in ocrs_dict.items():\n",
    "    ocrs.append(val.lower())"
   ]
  },
  {
   "cell_type": "code",
   "execution_count": 52,
   "metadata": {},
   "outputs": [
    {
     "name": "stdout",
     "output_type": "stream",
     "text": [
      "0\n"
     ]
    }
   ],
   "source": [
    "words_tag_dict = {\"winename\": winename, \"grapes\": grapes, \"vineyards\": vineyards, \"places\": places, \"org\": org, \\\n",
    "                  \"aroma\": aromas4, \"aroma\": aromas3, \"aroma\": aromas1, \"fruit\": fruit, \"taste\": taste}\n",
    "\n",
    "tagged_sentences = labeling_function(ocrs[0:10], words_tag_dict)\n",
    "\n",
    "tagged_sentences = cleaning(tagged_sentences)\n",
    "\n",
    "words = []\n",
    "for t in tagged_sentences:\n",
    "    for w in t:\n",
    "        if w[0] not in words:\n",
    "            words.append(w[0])\n",
    "            \n",
    "words.append(\"ENDPAD\")"
   ]
  },
  {
   "cell_type": "code",
   "execution_count": 62,
   "metadata": {
    "scrolled": false
   },
   "outputs": [],
   "source": [
    "#tagged_sentences[2]"
   ]
  }
 ],
 "metadata": {
  "kernelspec": {
   "display_name": "Python 3",
   "language": "python",
   "name": "python3"
  },
  "language_info": {
   "codemirror_mode": {
    "name": "ipython",
    "version": 3
   },
   "file_extension": ".py",
   "mimetype": "text/x-python",
   "name": "python",
   "nbconvert_exporter": "python",
   "pygments_lexer": "ipython3",
   "version": "3.6.8"
  }
 },
 "nbformat": 4,
 "nbformat_minor": 2
}
